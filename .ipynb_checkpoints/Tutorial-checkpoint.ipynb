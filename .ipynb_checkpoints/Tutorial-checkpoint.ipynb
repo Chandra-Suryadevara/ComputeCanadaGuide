{
 "cells": [
  {
   "cell_type": "markdown",
   "id": "e0cd8dff-1445-4286-8f7c-8986783528b0",
   "metadata": {},
   "source": [
    "#### Once you got access to Compute Canada Clusters"
   ]
  },
  {
   "cell_type": "markdown",
   "id": "7faed958-1e4b-4412-90e8-a55bde8d4e17",
   "metadata": {},
   "source": [
    "# Step1 : Adding SSH Keys "
   ]
  },
  {
   "cell_type": "markdown",
   "id": "98664795-bfa0-4bdd-b00e-99b74170dec0",
   "metadata": {},
   "source": [
    "###### Please Open This Link : https://ccdb.computecanada.ca/ssh_authorized_keys"
   ]
  },
  {
   "cell_type": "markdown",
   "id": "33aaf163-de58-4bfb-a24d-0ed688c361c5",
   "metadata": {},
   "source": [
    "Here is a step-by-step tutorial on how to generate SSH keys in Windows and Linux:\n",
    "Windows:\n",
    "Install OpenSSH: OpenSSH is a suite of tools that includes the SSH client and server. It's included with Windows 10 and later versions. To check if it's installed, open PowerShell or Command Prompt and type ssh -V. If it's not installed, follow these steps:\n",
    "Go to Settings > Apps > Optional features\n",
    "Click \"Add a feature\"\n",
    "Search for \"OpenSSH Client\" and install it\n",
    "Generate SSH keys:\n",
    "Open PowerShell or Command Prompt\n",
    "Type ssh-keygen -t rsa -b 4096 (or ssh-keygen -t ed25519 for a more secure key)\n",
    "Press Enter to accept the default file location and name (C:\\Users\\YourUsername\\.ssh\\id_rsa)\n",
    "Enter a passphrase (optional but recommended)\n",
    "Repeat the passphrase to confirm\n",
    "Copy the public key: Type cat ~/.ssh/id_rsa.pub and copy the output\n",
    "Add the public key to your SSH server: Follow the instructions for your specific SSH server (e.g., GitHub, GitLab, etc.)\n",
    "Linux:\n",
    "Generate SSH keys:\n",
    "Open a terminal\n",
    "Type ssh-keygen -t rsa -b 4096 (or ssh-keygen -t ed25519 for a more secure key)\n",
    "Press Enter to accept the default file location and name (~/.ssh/id_rsa)\n",
    "Enter a passphrase (optional but recommended)\n",
    "Repeat the passphrase to confirm\n",
    "Copy the public key: Type cat ~/.ssh/id_rsa.pub and copy the output\n",
    "Add the public key to your SSH server: Follow the instructions for your specific SSH server (e.g., GitHub, GitLab, etc.)\n",
    "Common steps:\n",
    "Save the private key: Make sure to save the private key (id_rsa) securely, as it allows access to your SSH server.\n",
    "Test the connection: Use ssh -T your_ssh_server to test the connection to your SSH server.\n",
    "You can send this tutorial to the person who needs to generate SSH keys. Let me know if you need any further assistance!"
   ]
  }
 ],
 "metadata": {
  "kernelspec": {
   "display_name": "Python 3 (ipykernel)",
   "language": "python",
   "name": "python3"
  },
  "language_info": {
   "codemirror_mode": {
    "name": "ipython",
    "version": 3
   },
   "file_extension": ".py",
   "mimetype": "text/x-python",
   "name": "python",
   "nbconvert_exporter": "python",
   "pygments_lexer": "ipython3",
   "version": "3.12.4"
  }
 },
 "nbformat": 4,
 "nbformat_minor": 5
}
